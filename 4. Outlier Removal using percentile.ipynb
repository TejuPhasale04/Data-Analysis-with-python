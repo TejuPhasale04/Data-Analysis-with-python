{
 "cells": [
  {
   "cell_type": "code",
   "execution_count": 34,
   "id": "28f0dafa",
   "metadata": {},
   "outputs": [],
   "source": [
    "import pandas as pd\n",
    "import seaborn as sns\n",
    "import matplotlib.pyplot as plt\n",
    "import numpy as np"
   ]
  },
  {
   "cell_type": "code",
   "execution_count": 35,
   "id": "96b3bf78",
   "metadata": {},
   "outputs": [],
   "source": [
    "df=pd.read_csv(\"weight-height.csv\")"
   ]
  },
  {
   "cell_type": "code",
   "execution_count": 36,
   "id": "01168b5e",
   "metadata": {},
   "outputs": [
    {
     "data": {
      "text/html": [
       "<div>\n",
       "<style scoped>\n",
       "    .dataframe tbody tr th:only-of-type {\n",
       "        vertical-align: middle;\n",
       "    }\n",
       "\n",
       "    .dataframe tbody tr th {\n",
       "        vertical-align: top;\n",
       "    }\n",
       "\n",
       "    .dataframe thead th {\n",
       "        text-align: right;\n",
       "    }\n",
       "</style>\n",
       "<table border=\"1\" class=\"dataframe\">\n",
       "  <thead>\n",
       "    <tr style=\"text-align: right;\">\n",
       "      <th></th>\n",
       "      <th>Gender</th>\n",
       "      <th>Height</th>\n",
       "      <th>Weight</th>\n",
       "    </tr>\n",
       "  </thead>\n",
       "  <tbody>\n",
       "    <tr>\n",
       "      <th>0</th>\n",
       "      <td>Male</td>\n",
       "      <td>73.847017</td>\n",
       "      <td>241.893563</td>\n",
       "    </tr>\n",
       "    <tr>\n",
       "      <th>1</th>\n",
       "      <td>Male</td>\n",
       "      <td>68.781904</td>\n",
       "      <td>162.310473</td>\n",
       "    </tr>\n",
       "    <tr>\n",
       "      <th>2</th>\n",
       "      <td>Male</td>\n",
       "      <td>74.110105</td>\n",
       "      <td>212.740856</td>\n",
       "    </tr>\n",
       "    <tr>\n",
       "      <th>3</th>\n",
       "      <td>Male</td>\n",
       "      <td>71.730978</td>\n",
       "      <td>220.042470</td>\n",
       "    </tr>\n",
       "    <tr>\n",
       "      <th>4</th>\n",
       "      <td>Male</td>\n",
       "      <td>69.881796</td>\n",
       "      <td>206.349801</td>\n",
       "    </tr>\n",
       "  </tbody>\n",
       "</table>\n",
       "</div>"
      ],
      "text/plain": [
       "  Gender     Height      Weight\n",
       "0   Male  73.847017  241.893563\n",
       "1   Male  68.781904  162.310473\n",
       "2   Male  74.110105  212.740856\n",
       "3   Male  71.730978  220.042470\n",
       "4   Male  69.881796  206.349801"
      ]
     },
     "execution_count": 36,
     "metadata": {},
     "output_type": "execute_result"
    }
   ],
   "source": [
    "df.head()"
   ]
  },
  {
   "cell_type": "code",
   "execution_count": 37,
   "id": "46b1310c",
   "metadata": {},
   "outputs": [
    {
     "data": {
      "text/plain": [
       "<Axes: >"
      ]
     },
     "execution_count": 37,
     "metadata": {},
     "output_type": "execute_result"
    },
    {
     "data": {
      "image/png": "[encoded data removed]",
      "text/plain": [
       "<Figure size 640x480 with 1 Axes>"
      ]
     },
     "metadata": {},
     "output_type": "display_data"
    }
   ],
   "source": [
    "sns.boxplot(df[\"Height\"])"
   ]
  },
  {
   "cell_type": "code",
   "execution_count": 38,
   "id": "d77c7647",
   "metadata": {},
   "outputs": [],
   "source": [
    "min_limit=df[\"Height\"].quantile(0.01)\n",
    "max_limit=df[\"Height\"].quantile(0.99)"
   ]
  },
  {
   "cell_type": "code",
   "execution_count": 39,
   "id": "668c397a",
   "metadata": {},
   "outputs": [
    {
     "data": {
      "text/plain": [
       "58.13441158671655"
      ]
     },
     "execution_count": 39,
     "metadata": {},
     "output_type": "execute_result"
    }
   ],
   "source": [
    "min_limit"
   ]
  },
  {
   "cell_type": "code",
   "execution_count": 40,
   "id": "dd292725",
   "metadata": {},
   "outputs": [
    {
     "data": {
      "text/plain": [
       "74.7857900583366"
      ]
     },
     "execution_count": 40,
     "metadata": {},
     "output_type": "execute_result"
    }
   ],
   "source": [
    "max_limit"
   ]
  },
  {
   "cell_type": "code",
   "execution_count": 41,
   "id": "bc8da5f5",
   "metadata": {},
   "outputs": [
    {
     "data": {
      "text/html": [
       "<div>\n",
       "<style scoped>\n",
       "    .dataframe tbody tr th:only-of-type {\n",
       "        vertical-align: middle;\n",
       "    }\n",
       "\n",
       "    .dataframe tbody tr th {\n",
       "        vertical-align: top;\n",
       "    }\n",
       "\n",
       "    .dataframe thead th {\n",
       "        text-align: right;\n",
       "    }\n",
       "</style>\n",
       "<table border=\"1\" class=\"dataframe\">\n",
       "  <thead>\n",
       "    <tr style=\"text-align: right;\">\n",
       "      <th></th>\n",
       "      <th>Gender</th>\n",
       "      <th>Height</th>\n",
       "      <th>Weight</th>\n",
       "    </tr>\n",
       "  </thead>\n",
       "  <tbody>\n",
       "    <tr>\n",
       "      <th>23</th>\n",
       "      <td>Male</td>\n",
       "      <td>75.205974</td>\n",
       "      <td>228.761781</td>\n",
       "    </tr>\n",
       "    <tr>\n",
       "      <th>190</th>\n",
       "      <td>Male</td>\n",
       "      <td>76.709835</td>\n",
       "      <td>235.035419</td>\n",
       "    </tr>\n",
       "    <tr>\n",
       "      <th>197</th>\n",
       "      <td>Male</td>\n",
       "      <td>75.944460</td>\n",
       "      <td>231.924749</td>\n",
       "    </tr>\n",
       "    <tr>\n",
       "      <th>202</th>\n",
       "      <td>Male</td>\n",
       "      <td>75.140821</td>\n",
       "      <td>224.124271</td>\n",
       "    </tr>\n",
       "    <tr>\n",
       "      <th>215</th>\n",
       "      <td>Male</td>\n",
       "      <td>74.795375</td>\n",
       "      <td>232.635403</td>\n",
       "    </tr>\n",
       "    <tr>\n",
       "      <th>...</th>\n",
       "      <td>...</td>\n",
       "      <td>...</td>\n",
       "      <td>...</td>\n",
       "    </tr>\n",
       "    <tr>\n",
       "      <th>9761</th>\n",
       "      <td>Female</td>\n",
       "      <td>56.975279</td>\n",
       "      <td>90.341784</td>\n",
       "    </tr>\n",
       "    <tr>\n",
       "      <th>9825</th>\n",
       "      <td>Female</td>\n",
       "      <td>55.979198</td>\n",
       "      <td>85.417534</td>\n",
       "    </tr>\n",
       "    <tr>\n",
       "      <th>9895</th>\n",
       "      <td>Female</td>\n",
       "      <td>57.740192</td>\n",
       "      <td>93.652957</td>\n",
       "    </tr>\n",
       "    <tr>\n",
       "      <th>9904</th>\n",
       "      <td>Female</td>\n",
       "      <td>57.028857</td>\n",
       "      <td>101.202551</td>\n",
       "    </tr>\n",
       "    <tr>\n",
       "      <th>9978</th>\n",
       "      <td>Female</td>\n",
       "      <td>57.375759</td>\n",
       "      <td>114.192209</td>\n",
       "    </tr>\n",
       "  </tbody>\n",
       "</table>\n",
       "<p>200 rows × 3 columns</p>\n",
       "</div>"
      ],
      "text/plain": [
       "      Gender     Height      Weight\n",
       "23      Male  75.205974  228.761781\n",
       "190     Male  76.709835  235.035419\n",
       "197     Male  75.944460  231.924749\n",
       "202     Male  75.140821  224.124271\n",
       "215     Male  74.795375  232.635403\n",
       "...      ...        ...         ...\n",
       "9761  Female  56.975279   90.341784\n",
       "9825  Female  55.979198   85.417534\n",
       "9895  Female  57.740192   93.652957\n",
       "9904  Female  57.028857  101.202551\n",
       "9978  Female  57.375759  114.192209\n",
       "\n",
       "[200 rows x 3 columns]"
      ]
     },
     "execution_count": 41,
     "metadata": {},
     "output_type": "execute_result"
    }
   ],
   "source": [
    "#outlier\n",
    "df[(df[\"Height\"]>max_limit) | (df[\"Height\"]<min_limit)]"
   ]
  },
  {
   "cell_type": "markdown",
   "id": "a45593a1",
   "metadata": {},
   "source": [
    "## Trimming"
   ]
  },
  {
   "cell_type": "code",
   "execution_count": 42,
   "id": "83d40e70",
   "metadata": {},
   "outputs": [],
   "source": [
    "df_new=df[(df[\"Height\"]<max_limit) & (df[\"Height\"]>min_limit)]"
   ]
  },
  {
   "cell_type": "code",
   "execution_count": 43,
   "id": "c701eece",
   "metadata": {},
   "outputs": [
    {
     "data": {
      "text/plain": [
       "<Axes: >"
      ]
     },
     "execution_count": 43,
     "metadata": {},
     "output_type": "execute_result"
    },
    {
     "data": {
      "image/png": "[encoded data removed]",
      "text/plain": [
       "<Figure size 640x480 with 1 Axes>"
      ]
     },
     "metadata": {},
     "output_type": "display_data"
    }
   ],
   "source": [
    "sns.boxplot(df_new[\"Height\"])"
   ]
  },
  {
   "cell_type": "markdown",
   "id": "e78c1b84",
   "metadata": {},
   "source": [
    "## Capping"
   ]
  },
  {
   "cell_type": "code",
   "execution_count": 44,
   "id": "547d07c7",
   "metadata": {},
   "outputs": [],
   "source": [
    "df[\"Height\"]=np.where(df[\"Height\"]>max_limit,max_limit,np.where(df[\"Height\"]<min_limit,max_limit,df[\"Height\"]))"
   ]
  },
  {
   "cell_type": "code",
   "execution_count": 45,
   "id": "3f669d16",
   "metadata": {},
   "outputs": [
    {
     "data": {
      "text/plain": [
       "(10000, 3)"
      ]
     },
     "execution_count": 45,
     "metadata": {},
     "output_type": "execute_result"
    }
   ],
   "source": [
    "df.shape"
   ]
  },
  {
   "cell_type": "code",
   "execution_count": 46,
   "id": "f2c0d0a4",
   "metadata": {},
   "outputs": [
    {
     "data": {
      "text/plain": [
       "<Axes: >"
      ]
     },
     "execution_count": 46,
     "metadata": {},
     "output_type": "execute_result"
    },
    {
     "data": {
      "image/png": "[encoded data removed]",
      "text/plain": [
       "<Figure size 640x480 with 1 Axes>"
      ]
     },
     "metadata": {},
     "output_type": "display_data"
    }
   ],
   "source": [
    "sns.boxplot(df[\"Height\"])"
   ]
  },
  {
   "cell_type": "code",
   "execution_count": null,
   "id": "e7be1de7",
   "metadata": {},
   "outputs": [],
   "source": []
  }
 ],
 "metadata": {
  "kernelspec": {
   "display_name": "Python 3 (ipykernel)",
   "language": "python",
   "name": "python3"
  },
  "language_info": {
   "codemirror_mode": {
    "name": "ipython",
    "version": 3
   },
   "file_extension": ".py",
   "mimetype": "text/x-python",
   "name": "python",
   "nbconvert_exporter": "python",
   "pygments_lexer": "ipython3",
   "version": "3.11.7"
  }
 },
 "nbformat": 4,
 "nbformat_minor": 5
}
